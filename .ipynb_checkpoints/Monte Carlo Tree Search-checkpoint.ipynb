{
 "cells": [
  {
   "cell_type": "markdown",
   "metadata": {},
   "source": [
    "# Introduction to Monte Carlo Tree Search\n",
    "---\n",
    "This workbook is the code written while working through a [09/07/2015 blog post](http://jeffbradberry.com/posts/2015/09/intro-to-monte-carlo-tree-search/) by [Jeff Bradberry](http://jeffbradberry.com/author/jeff-bradberry/)."
   ]
  },
  {
   "cell_type": "code",
   "execution_count": null,
   "metadata": {
    "collapsed": true
   },
   "outputs": [],
   "source": [
    "class Board(object):\n",
    "    \n",
    "    '''\n",
    "    Returns a representation of the starting state of the game.\n",
    "    '''\n",
    "    def start(self):\n",
    "        pass\n",
    "    \n",
    "    '''\n",
    "    Takes the game state and returns the current player's number.\n",
    "    '''\n",
    "    def current_player(self, state):\n",
    "        pass\n",
    "    \n",
    "    '''\n",
    "    Takes the game state, and the move to be applied.\n",
    "    Returns the new game state.\n",
    "    '''\n",
    "    def next_state(self, state, play):\n",
    "        pass\n",
    "    \n",
    "    '''\n",
    "    Takes a sequence of game states representing the full\n",
    "    game history, and returns the full list of moves that\n",
    "    are legal plays for the current player.\n",
    "    '''\n",
    "    def legal_plays(self, state_history):\n",
    "        pass\n",
    "    \n",
    "    '''\n",
    "    Takes a sequence of game states representing the full\n",
    "    game history.  If the game is now won, return the player\n",
    "    number.  If the game is still ongoing, return zero.  If\n",
    "    the game is tied, return a different distinct value, e.g. -1.\n",
    "    '''\n",
    "    def winner(self, state_history):\n",
    "        pass"
   ]
  }
 ],
 "metadata": {
  "kernelspec": {
   "display_name": "Python 2",
   "language": "python",
   "name": "python2"
  },
  "language_info": {
   "codemirror_mode": {
    "name": "ipython",
    "version": 2
   },
   "file_extension": ".py",
   "mimetype": "text/x-python",
   "name": "python",
   "nbconvert_exporter": "python",
   "pygments_lexer": "ipython2",
   "version": "2.7.11"
  }
 },
 "nbformat": 4,
 "nbformat_minor": 0
}
