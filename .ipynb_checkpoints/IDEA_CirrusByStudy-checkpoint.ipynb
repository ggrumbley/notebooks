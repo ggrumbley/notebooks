{
 "cells": [
  {
   "cell_type": "markdown",
   "metadata": {},
   "source": [
    "# Cirrus Data Exports By Study\n",
    "v1.2"
   ]
  },
  {
   "cell_type": "markdown",
   "metadata": {},
   "source": [
    "---\n",
    "### Add File Paths Here"
   ]
  },
  {
   "cell_type": "code",
   "execution_count": null,
   "metadata": {
    "collapsed": true
   },
   "outputs": [],
   "source": [
    "# Participants\n",
    "participants  = '/Users/gary/Desktop/PatientFMPDB05May2016.mer'\n",
    "\n",
    "# Folder full o' .mer files exported from FM\n",
    "folder = '/Users/gary/Desktop/cirrus_test/'"
   ]
  },
  {
   "cell_type": "markdown",
   "metadata": {},
   "source": [
    "---\n",
    "### Segment Function w/ Clock Fix"
   ]
  },
  {
   "cell_type": "code",
   "execution_count": 5,
   "metadata": {
    "collapsed": false
   },
   "outputs": [],
   "source": [
    "import glob, os\n",
    "import numpy as np\n",
    "import pandas as pd\n",
    "\n",
    "def segment(folder, fi_parts):\n",
    "    # Grab Participants File\n",
    "    parts = pd.read_csv(fi_parts)\n",
    "    \n",
    "    for fi in glob.iglob(folder + '*.mer'):\n",
    "        # Create DataFrame\n",
    "        df = pd.read_csv(fi, low_memory=False)\n",
    "\n",
    "        # Create file pieces\n",
    "        file_parts = os.path.basename(fi).split('_')\n",
    "        path = os.path.dirname(fi)\n",
    "\n",
    "        # Clock fix for Optic Disc Data\n",
    "        if file_parts[-2] == 'OpticDisc':\n",
    "            for index, row in df.iterrows():\n",
    "                if row['EXPORT_VERSION'] == 1.1:\n",
    "                    temp = [row['OPTICDISC_CLOCKHOUR_' + str(i)] for i in range(1,13)]\n",
    "                    df.set_value(index, 'OPTICDISC_CLOCKHOUR_1', temp[4])\n",
    "                    df.set_value(index, 'OPTICDISC_CLOCKHOUR_2', temp[5])\n",
    "                    df.set_value(index, 'OPTICDISC_CLOCKHOUR_3', temp[6])\n",
    "                    df.set_value(index, 'OPTICDISC_CLOCKHOUR_4', temp[7])\n",
    "                    df.set_value(index, 'OPTICDISC_CLOCKHOUR_5', temp[8])\n",
    "                    df.set_value(index, 'OPTICDISC_CLOCKHOUR_6', temp[9])\n",
    "                    df.set_value(index, 'OPTICDISC_CLOCKHOUR_7', temp[10])\n",
    "                    df.set_value(index, 'OPTICDISC_CLOCKHOUR_8', temp[11])\n",
    "                    df.set_value(index, 'OPTICDISC_CLOCKHOUR_9', temp[0])\n",
    "                    df.set_value(index, 'OPTICDISC_CLOCKHOUR_10', temp[1])\n",
    "                    df.set_value(index, 'OPTICDISC_CLOCKHOUR_11', temp[2])\n",
    "                    df.set_value(index, 'OPTICDISC_CLOCKHOUR_12', temp[3])\n",
    "\n",
    "        # SEGMENTING\n",
    "        \n",
    "        # Case Fix\n",
    "        parts['rc_researchid'] = parts['rc_researchid'].str.upper()\n",
    "        df['LAST_NAME'] = df['LAST_NAME'].str.upper()\n",
    "        df['PATIENT_ID'] = df['PATIENT_ID'].str.upper()\n",
    "\n",
    "        ########\n",
    "        # OHTS #\n",
    "        ########\n",
    "\n",
    "        # Create list of OHTS IDs\n",
    "        ohts_ids = parts[parts.rc_ohts_id.notnull()]\n",
    "\n",
    "        # Filter out the OHTS Participant Data\n",
    "        ohts = df[df['LAST_NAME'].isin(ohts_ids.rc_researchid)]\n",
    "\n",
    "        # Append Participant Info to end of row\n",
    "        ohts = pd.merge(ohts, ohts_ids, left_on='LAST_NAME', right_on='rc_researchid')\n",
    "\n",
    "        # Clean FIRST_NAME Types\n",
    "        vals = {'SD': 'S1', 'NY': 'M1'}\n",
    "        ohts_clean = ohts.replace({'FIRST_NAME': vals})\n",
    "\n",
    "        # Set Research ID to OHTS ID in two columns\n",
    "        ohts_clean['LAST_NAME'] = ohts_clean['rc_ohts_id']\n",
    "        ohts_clean['PATIENT_ID'] = ohts_clean['rc_ohts_id']\n",
    "        \n",
    "        # Remove Decimals from IDs and save as strings\n",
    "        ohts_clean['LAST_NAME'] = ohts_clean['LAST_NAME'].astype(str)\n",
    "        ohts_clean['LAST_NAME'] = ohts_clean['LAST_NAME'].str.split('.').str.get(0).str.zfill(5)\n",
    "        ohts_clean['PATIENT_ID'] = ohts_clean['PATIENT_ID'].astype(str)\n",
    "        ohts_clean['PATIENT_ID'] = ohts_clean['PATIENT_ID'].str.split('.').str.get(0).str.zfill(5)\n",
    "        \n",
    "        # Drop join columns from Participants Table\n",
    "        ohts_clean.drop(ohts_clean.columns[[-1, -2, -3]], axis=1, inplace=True)\n",
    "\n",
    "        # Save OHTS Participants\n",
    "        file_parts[1] = 'OHTS'\n",
    "        ohts_path = path + '/' + file_parts[0] + '_Cirrus_OHTS/'\n",
    "        \n",
    "        # Create OHTS sub-directory if it does not yet exist\n",
    "        if not os.path.exists(ohts_path):\n",
    "            os.makedirs(ohts_path)\n",
    "            \n",
    "        # Save data to file\n",
    "        ohts_out = ohts_path + \"_\".join(file_parts)\n",
    "        pre, ext = os.path.splitext(ohts_out)\n",
    "        fi_ohts = pre + '.csv'\n",
    "        ohts_clean.to_csv(fi_ohts, index=False)\n",
    "        print(os.path.basename(fi_ohts) + ' Created')\n",
    "\n",
    "        ###############\n",
    "        # DIGS/ADAGES #\n",
    "        ###############\n",
    "\n",
    "        # Create list of Non-OHTS IDs\n",
    "        digs_ids = parts[parts.rc_study != 'OHTS']\n",
    "\n",
    "        # Filter out the Non-OHTS Participant Data\n",
    "        digs = df[df['LAST_NAME'].isin(digs_ids.rc_researchid)]\n",
    "\n",
    "        # Save DIGS/ADAGES Participants\n",
    "        file_parts[1] = 'HGC'\n",
    "        adages_path = path + '/' + file_parts[0] + '_Cirrus_ADAGES_DIGS/'\n",
    "        \n",
    "        #Create ADAGES-DIGS sub-directory if does not yet exist\n",
    "        if not os.path.exists(adages_path):\n",
    "            os.makedirs(adages_path)\n",
    "            \n",
    "        # Save data to File\n",
    "        digs_out = adages_path + \"_\".join(file_parts)\n",
    "        pre, ext = os.path.splitext(digs_out)\n",
    "        fi_digs = pre + '.csv'\n",
    "        digs.to_csv(fi_digs, index=False)\n",
    "        print(os.path.basename(fi_digs) + ' Created')\n",
    "        \n",
    "    print('-------------------------------------')\n",
    "    print('| OMG y\\'all, your files are ready!  |')\n",
    "    print('-------------------------------------')"
   ]
  },
  {
   "cell_type": "code",
   "execution_count": 7,
   "metadata": {
    "collapsed": false
   },
   "outputs": [
    {
     "name": "stdout",
     "output_type": "stream",
     "text": [
      "20160429_OHTS_CirrusOCT_OpticDisc_USABLE.csv Created\n",
      "20160429_ADAGES-DIGS_CirrusOCT_OpticDisc_USABLE.csv Created\n",
      "20160429_OHTS_CirrusOCT_GCA_USABLE.csv Created\n",
      "20160429_ADAGES-DIGS_CirrusOCT_GCA_USABLE.csv Created\n",
      "20160429_OHTS_CirrusOCT_MTA_USABLE.csv Created\n",
      "20160429_ADAGES-DIGS_CirrusOCT_MTA_USABLE.csv Created\n",
      "20160429_OHTS_CirrusOCT_OpticDisc_ALL.csv Created\n",
      "20160429_ADAGES-DIGS_CirrusOCT_OpticDisc_ALL.csv Created\n",
      "20160429_OHTS_CirrusOCT_GCA_ALL.csv Created\n",
      "20160429_ADAGES-DIGS_CirrusOCT_GCA_ALL.csv Created\n",
      "20160429_OHTS_CirrusOCT_MTA_ALL.csv Created\n",
      "20160429_ADAGES-DIGS_CirrusOCT_MTA_ALL.csv Created\n",
      "20160429_OHTS_CirrusOCT_AdvancedRPE_ALL.csv Created\n",
      "20160429_ADAGES-DIGS_CirrusOCT_AdvancedRPE_ALL.csv Created\n",
      "20160429_OHTS_CirrusOCT_ScanData_ALL.csv Created\n",
      "20160429_ADAGES-DIGS_CirrusOCT_ScanData_ALL.csv Created\n",
      "-------------------------------------\n",
      "| OMG y'all, your files are ready!  |\n",
      "-------------------------------------\n"
     ]
    }
   ],
   "source": [
    "# Run the segment()\n",
    "segment(folder, participants)"
   ]
  },
  {
   "cell_type": "code",
   "execution_count": null,
   "metadata": {
    "collapsed": true
   },
   "outputs": [],
   "source": []
  }
 ],
 "metadata": {
  "kernelspec": {
   "display_name": "Python 3",
   "language": "python",
   "name": "python3"
  },
  "language_info": {
   "codemirror_mode": {
    "name": "ipython",
    "version": 3
   },
   "file_extension": ".py",
   "mimetype": "text/x-python",
   "name": "python",
   "nbconvert_exporter": "python",
   "pygments_lexer": "ipython3",
   "version": "3.5.1"
  }
 },
 "nbformat": 4,
 "nbformat_minor": 0
}
