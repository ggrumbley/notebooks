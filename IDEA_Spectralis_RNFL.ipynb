{
 "cells": [
  {
   "cell_type": "markdown",
   "metadata": {},
   "source": [
    "# Spectralis RNFL\n",
    "v1.2"
   ]
  },
  {
   "cell_type": "markdown",
   "metadata": {},
   "source": [
    "----\n",
    "### Add File Paths Here"
   ]
  },
  {
   "cell_type": "code",
   "execution_count": 3,
   "metadata": {
    "collapsed": true
   },
   "outputs": [],
   "source": [
    "# Participants file that ends with `.mer`\n",
    "participants  = '/Users/gary/Desktop/PatientFMPDB08July2016.mer'\n",
    "\n",
    "# Folder full o' .mer files exported from FM\n",
    "folder = '/Users/gary/Desktop/spec/'"
   ]
  },
  {
   "cell_type": "markdown",
   "metadata": {
    "collapsed": true
   },
   "source": [
    "---\n",
    "### Segment Function"
   ]
  },
  {
   "cell_type": "code",
   "execution_count": 4,
   "metadata": {
    "collapsed": false
   },
   "outputs": [],
   "source": [
    "import glob, os\n",
    "import numpy as np\n",
    "import pandas as pd\n",
    "\n",
    "def segment(folder, fi_parts):\n",
    "    # Grab Participants File\n",
    "    parts = pd.read_csv(fi_parts)\n",
    "    \n",
    "    for fi in glob.iglob(folder + '*.mer'):\n",
    "        # Create DataFrame\n",
    "        df = pd.read_csv(fi, low_memory=False)\n",
    "        \n",
    "        # Create file pieces\n",
    "        file_parts = os.path.basename(fi).split('_')\n",
    "        path = os.path.dirname(fi)\n",
    "\n",
    "        # SEGMENTING\n",
    "        \n",
    "        # Case Fix\n",
    "        parts['rc_researchid'] = parts['rc_researchid'].str.upper()\n",
    "        df['Lastname'] = df['Lastname'].str.upper()\n",
    "        df['PatientID'] = df['PatientID'].str.upper()\n",
    "\n",
    "        ########\n",
    "        # OHTS #\n",
    "        ########\n",
    "\n",
    "        # Create list of OHTS IDs\n",
    "        ohts_ids = parts[parts.rc_ohts_id.notnull()]\n",
    "\n",
    "        # Filter out the OHTS Participant Data\n",
    "        ohts = df[df['Lastname'].isin(ohts_ids.rc_researchid)]\n",
    "\n",
    "        # Append Participant Info to end of row\n",
    "        ohts = pd.merge(ohts, ohts_ids, left_on='Lastname', right_on='rc_researchid')\n",
    "        \n",
    "        # Clean FIRST_NAME Types\n",
    "        vals = {'SD': 'S1', 'NY': 'M1'}\n",
    "        ohts_clean = ohts.replace({'Firstname': vals})\n",
    "\n",
    "        # Set Research ID to OHTS ID in two columns\n",
    "        ohts_clean['Lastname'] = ohts_clean['rc_ohts_id']\n",
    "        ohts_clean['PatientID'] = ohts_clean['rc_ohts_id']\n",
    "        \n",
    "        # Remove Decimals from IDs and save as strings\n",
    "        ohts_clean['Lastname'] = ohts_clean['Lastname'].astype(str)\n",
    "        ohts_clean['Lastname'] = ohts_clean['Lastname'].str.split('.').str.get(0).str.zfill(5)\n",
    "        ohts_clean['PatientID'] = ohts_clean['PatientID'].astype(str)\n",
    "        ohts_clean['PatientID'] = ohts_clean['PatientID'].str.split('.').str.get(0).str.zfill(5)\n",
    "        \n",
    "        # Drop join columns from Participants Table\n",
    "        ohts_clean.drop(ohts_clean.columns[[-1, -2, -3]], axis=1, inplace=True)\n",
    "        \n",
    "        # Save OHTS Participants\n",
    "        file_parts[1] = 'OHTS'\n",
    "        ohts_path = path + '/' + file_parts[0] + '_Spectralis_OHTS/'\n",
    "        \n",
    "        # Create OHTS sub-directory if it does not yet exist\n",
    "        if not os.path.exists(ohts_path):\n",
    "            os.makedirs(ohts_path)\n",
    "            \n",
    "        # Save data to file\n",
    "        ohts_out = ohts_path + \"_\".join(file_parts)\n",
    "        pre, ext = os.path.splitext(ohts_out)\n",
    "        fi_ohts = pre + '.csv'\n",
    "        ohts_clean.to_csv(fi_ohts, index=False)\n",
    "        print(os.path.basename(fi_ohts) + ' Created')\n",
    "\n",
    "        ###############\n",
    "        # DIGS/ADAGES #\n",
    "        ###############\n",
    "\n",
    "        # Create list of Non-OHTS IDs\n",
    "        digs_ids = parts[parts.rc_study != 'OHTS']\n",
    "\n",
    "        # Filter out the Non-OHTS Participant Data\n",
    "        digs = df[df['Lastname'].isin(digs_ids.rc_researchid)]\n",
    "\n",
    "        # Save DIGS/ADAGES Participants\n",
    "        file_parts[1] = 'HGC'\n",
    "        adages_path = path + '/' + file_parts[0] + '_Spectralis_ADAGES_DIGS/'\n",
    "        \n",
    "        #Create ADAGES-DIGS sub-directory if does not yet exist\n",
    "        if not os.path.exists(adages_path):\n",
    "            os.makedirs(adages_path)\n",
    "            \n",
    "        # Save data to File\n",
    "        digs_out = adages_path + \"_\".join(file_parts)\n",
    "        pre, ext = os.path.splitext(digs_out)\n",
    "        fi_digs = pre + '.csv'\n",
    "        digs.to_csv(fi_digs, index=False)\n",
    "        print(os.path.basename(fi_digs) + ' Created')\n",
    "        \n",
    "    print('-------------------------------------')\n",
    "    print('| OMG y\\'all, your files are ready!  |')\n",
    "    print('-------------------------------------')\n"
   ]
  },
  {
   "cell_type": "code",
   "execution_count": 5,
   "metadata": {
    "collapsed": false
   },
   "outputs": [
    {
     "name": "stdout",
     "output_type": "stream",
     "text": [
      "20160708_OHTS_Spectralis_RNFL_ALL.csv Created\n",
      "20160708_ADAGES-DIGS_Spectralis_RNFL_ALL.csv Created\n",
      "-------------------------------------\n",
      "| OMG y'all, your files are ready!  |\n",
      "-------------------------------------\n"
     ]
    }
   ],
   "source": [
    "# Run the segment()\n",
    "segment(folder, participants)"
   ]
  }
 ],
 "metadata": {
  "kernelspec": {
   "display_name": "Python 3",
   "language": "python",
   "name": "python3"
  },
  "language_info": {
   "codemirror_mode": {
    "name": "ipython",
    "version": 3
   },
   "file_extension": ".py",
   "mimetype": "text/x-python",
   "name": "python",
   "nbconvert_exporter": "python",
   "pygments_lexer": "ipython3",
   "version": "3.5.1"
  }
 },
 "nbformat": 4,
 "nbformat_minor": 0
}
