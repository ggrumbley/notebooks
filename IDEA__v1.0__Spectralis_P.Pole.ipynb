{
 "cells": [
  {
   "cell_type": "markdown",
   "metadata": {},
   "source": [
    "# Spectralis P.Pole Thickness Map\n",
    "v1.1"
   ]
  },
  {
   "cell_type": "markdown",
   "metadata": {},
   "source": [
    "----\n",
    "### Add File Paths Here"
   ]
  },
  {
   "cell_type": "code",
   "execution_count": 1,
   "metadata": {
    "collapsed": true
   },
   "outputs": [],
   "source": [
    "# Participants file that ends with `.mer`\n",
    "participants  = '/Users/gary/Desktop/GaryPPole/20160815RCPts.mer'\n",
    "\n",
    "# Quality Control File\n",
    "quality_control = '/Users/gary/Desktop/GaryPPole/FMPQC22Aug2016.mer'\n",
    "\n",
    "# Folder full o' .mer files exported from FM\n",
    "folder = '/Users/gary/Desktop/GaryPPole/20160823OHTS_SpectralisThickMap/'\n",
    "#folder2 = '/Users/gary/Desktop/GaryPPole/SD20160823_20140813_20141231/'\n",
    "# Single File For Testing\n",
    "fi_test = '/Users/gary/Desktop/GaryPPole/20160823OHTS_SpectralisThickMap/20160823OHTSspectralisRNFL_ALL.txt'"
   ]
  },
  {
   "cell_type": "markdown",
   "metadata": {
    "collapsed": true
   },
   "source": [
    "---\n",
    "### Segment Function"
   ]
  },
  {
   "cell_type": "code",
   "execution_count": 2,
   "metadata": {
    "collapsed": false
   },
   "outputs": [],
   "source": [
    "import glob, os\n",
    "import numpy as np\n",
    "import pandas as pd\n",
    "from collections import Counter\n",
    "\n",
    "def segment(folder, qc, participants):\n",
    "    pts = pd.read_csv(participants, low_memory=False)\n",
    "    qc = pd.read_csv(qc, low_memory=False)\n",
    "\n",
    "    # Create 2016 list\n",
    "    #year_2016 = qc['ID'].where(pd.to_datetime(qc['ExamDate']).dt.year == 2016).values\n",
    "    \n",
    "    for fi in glob.iglob(folder + '*.txt'):\n",
    "        # Current Data File\n",
    "        df = pd.read_csv(fi, sep='\\t', encoding='iso-8859-1', low_memory=False)\n",
    "        \n",
    "        # CASE FIX\n",
    "        df['Lastname'] = df['Lastname'].astype(str)\n",
    "        df['PatientID'] = df['PatientID'].astype(str)\n",
    "        pts['rc_researchid'] = pts['rc_researchid'].str.upper()\n",
    "        df['Lastname'] = df['Lastname'].str.upper()\n",
    "        df['PatientID'] = df['PatientID'].str.upper()\n",
    "        \n",
    "        #QC Rename\n",
    "        qc.rename(columns={'ID': 'PatientID'}, inplace=True)\n",
    "        \n",
    "        # Create list of OHTS IDs\n",
    "        ohts_ids = pts[pts.rc_researchid.notnull()]\n",
    "        \n",
    "        #QC OC/OD Map\n",
    "        vals = {'L': 'OS', 'R': 'OD'}\n",
    "        df_clean = df.replace({'Eye': vals})\n",
    "\n",
    "        df_all = pd.merge(df_clean, \\\n",
    "                            qc[['PatientID', 'Eye', 'ExamDate', 'ExamTimeRAW', \\\n",
    "                                'ExaminedStruct', 'NumBScans', 'OCTHIRES', 'QCExt1CorrectScanType', \\\n",
    "                                'QCQualityScore', 'QCSignalStrength', 'ArtMeanImages', 'QCOCTArtImageMode', \\\n",
    "                                'QCScanPatternCentered', 'QCScanClipped', 'QCSegAlgFail', 'QCFloaters', \\\n",
    "                                'QCArtifacts', 'QCIllumination', 'QCPossiblePathology', 'QCScanComplete', \\\n",
    "                                'QCSettings', 'QCDataAvailable', 'QCImageUsable']], \\\n",
    "                            how='left', \\\n",
    "                            left_on=['PatientID', 'Eye', 'ExamDate', 'ExamTime'], \\\n",
    "                            right_on=['PatientID', 'Eye', 'ExamDate', 'ExamTimeRAW'])\n",
    "        df_all.drop('ExamTimeRAW', axis=1, inplace=True)\n",
    "        \n",
    "        # Swap in HGC IDs\n",
    "        df_all = pd.merge(df_all, ohts_ids, left_on='PatientID', right_on='rc_ohts_id')\n",
    "        df_all['Lastname'] = df_all['rc_researchid']\n",
    "        \n",
    "        # Parse year\n",
    "        #df_all['2016 OHTS visit'] = np.where(df_all['PatientID'].isin(year_2016), 'Yes', 'No')\n",
    "       \n",
    "        # Create File of Usable Scans\n",
    "        df_usable = df_all[df_all.QCImageUsable == 'Yes']\n",
    "\n",
    "        # Create file pieces\n",
    "                # Create File Pieces\n",
    "        file_parts = os.path.basename(fi).split('_')\n",
    "        input_file = os.path.basename(fi)\n",
    "        path = os.path.dirname(fi)\n",
    "        timey = file_parts[0]\n",
    "        segey = ''\n",
    "        namey = ''\n",
    "        \n",
    "        save_path = path + '/' + 'PPOLE_OUTPUT/'\n",
    "        \n",
    "        # Create Sub-Directory if one does not yet exist\n",
    "        if not os.path.exists(save_path):\n",
    "            os.makedirs(save_path)\n",
    "            \n",
    "        if 'IPL' in input_file:\n",
    "            namey = 'Spectralis_ThMapIPL_'\n",
    "        elif 'GCL' in input_file:\n",
    "            namey = 'Spectralis_ThMapGCL_'\n",
    "        elif 'RNFL' in input_file:\n",
    "            namey = 'Spectralis_ThMapRNFL_'\n",
    "        \n",
    "        if 'Dspec' in input_file:\n",
    "            segey = '_HGC_'\n",
    "            ohts_all = df_all[df_all['Lastname'].isin(ohts_ids.rc_researchid)]\n",
    "            ohts_usable = df_usable[df_usable['Lastname'].isin(ohts_ids.rc_researchid)]\n",
    "            \n",
    "            ohts_all.to_csv(save_path + '/' + timey + '_OHTS_' + namey + 'ALL.csv', index=False)\n",
    "            print(timey + '_OHTS_' + namey + 'ALL.csv' + ' Created')\n",
    "            \n",
    "            ohts_usable.to_csv(save_path + '/' + timey + '_OHTS_' + namey + 'USABLE.csv', index=False)\n",
    "            print(timey + '_OHTS_' + namey + 'USABLE.csv' + ' Created')\n",
    "        elif 'OHTS' in input_file:\n",
    "            segey = '_OHTS_'\n",
    "        filey = timey + segey + namey\n",
    "        df_all.to_csv(save_path + '/' + filey + 'ALL.csv', index=False)\n",
    "        print(filey + 'ALL.csv' + ' Created')\n",
    "        df_usable.to_csv(save_path + '/' + filey + 'USABLE.csv', index=False)\n",
    "        print(filey + 'USABLE.csv' + ' Created')\n",
    "            \n",
    "    print('-------------------------------------')\n",
    "    print('| OMG y\\'all, your files are ready!  |')\n",
    "    print('-------------------------------------')"
   ]
  },
  {
   "cell_type": "code",
   "execution_count": 3,
   "metadata": {
    "collapsed": false
   },
   "outputs": [
    {
     "ename": "AttributeError",
     "evalue": "Can only use .str accessor with string values, which use np.object_ dtype in pandas",
     "output_type": "error",
     "traceback": [
      "\u001b[0;31m---------------------------------------------------------------------------\u001b[0m",
      "\u001b[0;31mAttributeError\u001b[0m                            Traceback (most recent call last)",
      "\u001b[0;32m<ipython-input-3-15582c0153c8>\u001b[0m in \u001b[0;36m<module>\u001b[0;34m()\u001b[0m\n\u001b[1;32m      1\u001b[0m \u001b[0;31m# Run the segment()\u001b[0m\u001b[0;34m\u001b[0m\u001b[0;34m\u001b[0m\u001b[0m\n\u001b[0;32m----> 2\u001b[0;31m \u001b[0msegment\u001b[0m\u001b[0;34m(\u001b[0m\u001b[0mfolder\u001b[0m\u001b[0;34m,\u001b[0m \u001b[0mquality_control\u001b[0m\u001b[0;34m,\u001b[0m \u001b[0mparticipants\u001b[0m\u001b[0;34m)\u001b[0m\u001b[0;34m\u001b[0m\u001b[0m\n\u001b[0m\u001b[1;32m      3\u001b[0m \u001b[0;31m#segment(folder2, quality_control, participants)\u001b[0m\u001b[0;34m\u001b[0m\u001b[0;34m\u001b[0m\u001b[0m\n",
      "\u001b[0;32m<ipython-input-2-c1a8a7f377b0>\u001b[0m in \u001b[0;36msegment\u001b[0;34m(folder, qc, participants)\u001b[0m\n\u001b[1;32m     19\u001b[0m         \u001b[0;31m#df['PatientID'] = df['PatientID'].astype(str)\u001b[0m\u001b[0;34m\u001b[0m\u001b[0;34m\u001b[0m\u001b[0m\n\u001b[1;32m     20\u001b[0m         \u001b[0mpts\u001b[0m\u001b[0;34m[\u001b[0m\u001b[0;34m'rc_researchid'\u001b[0m\u001b[0;34m]\u001b[0m \u001b[0;34m=\u001b[0m \u001b[0mpts\u001b[0m\u001b[0;34m[\u001b[0m\u001b[0;34m'rc_researchid'\u001b[0m\u001b[0;34m]\u001b[0m\u001b[0;34m.\u001b[0m\u001b[0mstr\u001b[0m\u001b[0;34m.\u001b[0m\u001b[0mupper\u001b[0m\u001b[0;34m(\u001b[0m\u001b[0;34m)\u001b[0m\u001b[0;34m\u001b[0m\u001b[0m\n\u001b[0;32m---> 21\u001b[0;31m         \u001b[0mdf\u001b[0m\u001b[0;34m[\u001b[0m\u001b[0;34m'Lastname'\u001b[0m\u001b[0;34m]\u001b[0m \u001b[0;34m=\u001b[0m \u001b[0mdf\u001b[0m\u001b[0;34m[\u001b[0m\u001b[0;34m'Lastname'\u001b[0m\u001b[0;34m]\u001b[0m\u001b[0;34m.\u001b[0m\u001b[0mstr\u001b[0m\u001b[0;34m.\u001b[0m\u001b[0mupper\u001b[0m\u001b[0;34m(\u001b[0m\u001b[0;34m)\u001b[0m\u001b[0;34m\u001b[0m\u001b[0m\n\u001b[0m\u001b[1;32m     22\u001b[0m         \u001b[0mdf\u001b[0m\u001b[0;34m[\u001b[0m\u001b[0;34m'PatientID'\u001b[0m\u001b[0;34m]\u001b[0m \u001b[0;34m=\u001b[0m \u001b[0mdf\u001b[0m\u001b[0;34m[\u001b[0m\u001b[0;34m'PatientID'\u001b[0m\u001b[0;34m]\u001b[0m\u001b[0;34m.\u001b[0m\u001b[0mstr\u001b[0m\u001b[0;34m.\u001b[0m\u001b[0mupper\u001b[0m\u001b[0;34m(\u001b[0m\u001b[0;34m)\u001b[0m\u001b[0;34m\u001b[0m\u001b[0m\n\u001b[1;32m     23\u001b[0m \u001b[0;34m\u001b[0m\u001b[0m\n",
      "\u001b[0;32m/Users/gary/anaconda/lib/python3.5/site-packages/pandas/core/generic.py\u001b[0m in \u001b[0;36m__getattr__\u001b[0;34m(self, name)\u001b[0m\n\u001b[1;32m   2666\u001b[0m         if (name in self._internal_names_set or name in self._metadata or\n\u001b[1;32m   2667\u001b[0m                 name in self._accessors):\n\u001b[0;32m-> 2668\u001b[0;31m             \u001b[0;32mreturn\u001b[0m \u001b[0mobject\u001b[0m\u001b[0;34m.\u001b[0m\u001b[0m__getattribute__\u001b[0m\u001b[0;34m(\u001b[0m\u001b[0mself\u001b[0m\u001b[0;34m,\u001b[0m \u001b[0mname\u001b[0m\u001b[0;34m)\u001b[0m\u001b[0;34m\u001b[0m\u001b[0m\n\u001b[0m\u001b[1;32m   2669\u001b[0m         \u001b[0;32melse\u001b[0m\u001b[0;34m:\u001b[0m\u001b[0;34m\u001b[0m\u001b[0m\n\u001b[1;32m   2670\u001b[0m             \u001b[0;32mif\u001b[0m \u001b[0mname\u001b[0m \u001b[0;32min\u001b[0m \u001b[0mself\u001b[0m\u001b[0;34m.\u001b[0m\u001b[0m_info_axis\u001b[0m\u001b[0;34m:\u001b[0m\u001b[0;34m\u001b[0m\u001b[0m\n",
      "\u001b[0;32m/Users/gary/anaconda/lib/python3.5/site-packages/pandas/core/base.py\u001b[0m in \u001b[0;36m__get__\u001b[0;34m(self, instance, owner)\u001b[0m\n\u001b[1;32m    235\u001b[0m             \u001b[0;31m# this ensures that Series.str.<method> is well defined\u001b[0m\u001b[0;34m\u001b[0m\u001b[0;34m\u001b[0m\u001b[0m\n\u001b[1;32m    236\u001b[0m             \u001b[0;32mreturn\u001b[0m \u001b[0mself\u001b[0m\u001b[0;34m.\u001b[0m\u001b[0maccessor_cls\u001b[0m\u001b[0;34m\u001b[0m\u001b[0m\n\u001b[0;32m--> 237\u001b[0;31m         \u001b[0;32mreturn\u001b[0m \u001b[0mself\u001b[0m\u001b[0;34m.\u001b[0m\u001b[0mconstruct_accessor\u001b[0m\u001b[0;34m(\u001b[0m\u001b[0minstance\u001b[0m\u001b[0;34m)\u001b[0m\u001b[0;34m\u001b[0m\u001b[0m\n\u001b[0m\u001b[1;32m    238\u001b[0m \u001b[0;34m\u001b[0m\u001b[0m\n\u001b[1;32m    239\u001b[0m     \u001b[0;32mdef\u001b[0m \u001b[0m__set__\u001b[0m\u001b[0;34m(\u001b[0m\u001b[0mself\u001b[0m\u001b[0;34m,\u001b[0m \u001b[0minstance\u001b[0m\u001b[0;34m,\u001b[0m \u001b[0mvalue\u001b[0m\u001b[0;34m)\u001b[0m\u001b[0;34m:\u001b[0m\u001b[0;34m\u001b[0m\u001b[0m\n",
      "\u001b[0;32m/Users/gary/anaconda/lib/python3.5/site-packages/pandas/core/strings.py\u001b[0m in \u001b[0;36m_make_str_accessor\u001b[0;34m(self)\u001b[0m\n\u001b[1;32m   1816\u001b[0m             \u001b[0;31m# (instead of test for object dtype), but that isn't practical for\u001b[0m\u001b[0;34m\u001b[0m\u001b[0;34m\u001b[0m\u001b[0m\n\u001b[1;32m   1817\u001b[0m             \u001b[0;31m# performance reasons until we have a str dtype (GH 9343)\u001b[0m\u001b[0;34m\u001b[0m\u001b[0;34m\u001b[0m\u001b[0m\n\u001b[0;32m-> 1818\u001b[0;31m             raise AttributeError(\"Can only use .str accessor with string \"\n\u001b[0m\u001b[1;32m   1819\u001b[0m                                  \u001b[0;34m\"values, which use np.object_ dtype in \"\u001b[0m\u001b[0;34m\u001b[0m\u001b[0m\n\u001b[1;32m   1820\u001b[0m                                  \"pandas\")\n",
      "\u001b[0;31mAttributeError\u001b[0m: Can only use .str accessor with string values, which use np.object_ dtype in pandas"
     ]
    }
   ],
   "source": [
    "# Run the segment()\n",
    "segment(folder, quality_control, participants)\n",
    "#segment(folder2, quality_control, participants)"
   ]
  },
  {
   "cell_type": "code",
   "execution_count": null,
   "metadata": {
    "collapsed": true
   },
   "outputs": [],
   "source": []
  }
 ],
 "metadata": {
  "kernelspec": {
   "display_name": "Python 3",
   "language": "python",
   "name": "python3"
  },
  "language_info": {
   "codemirror_mode": {
    "name": "ipython",
    "version": 3
   },
   "file_extension": ".py",
   "mimetype": "text/x-python",
   "name": "python",
   "nbconvert_exporter": "python",
   "pygments_lexer": "ipython3",
   "version": "3.5.1"
  }
 },
 "nbformat": 4,
 "nbformat_minor": 0
}
