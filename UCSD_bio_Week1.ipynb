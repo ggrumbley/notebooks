{
 "cells": [
  {
   "cell_type": "markdown",
   "metadata": {
    "collapsed": true
   },
   "source": [
    "### 1.2 Hidden Messages in the Replication Origin"
   ]
  },
  {
   "cell_type": "code",
   "execution_count": 23,
   "metadata": {
    "collapsed": false
   },
   "outputs": [],
   "source": [
    "# Count instances of the Pattern in the given Text\n",
    "def PatternCount(Pattern, Text):\n",
    "    count = 0\n",
    "    for i in range(len(Text)-len(Pattern)+1):\n",
    "        if Text[i:i+len(Pattern)] == Pattern:\n",
    "            count = count+1\n",
    "    return count\n",
    "\n",
    "def PatternMatching(Pattern, Genome):\n",
    "    positions = []\n",
    "    for i in range(len(Genome)-len(Pattern)+1):\n",
    "        if Genome[i:i+len(Pattern)] == Pattern:\n",
    "            positions.append(i)\n",
    "    return positions\n",
    "\n",
    "# Return dict of patterns at k\n",
    "def CountDict(Text, k):\n",
    "    Count = {}\n",
    "    for i in range(len(Text) - k + 1):\n",
    "        Pattern = Text[i:i+k]\n",
    "        Count[i] = PatternCount(Pattern, Text)\n",
    "    return Count\n",
    "\n",
    "# Find the most frequent words at k\n",
    "def FrequentWords(Text, k):\n",
    "    FrequentPatterns = []\n",
    "    Count = CountDict(Text, k)\n",
    "    m = max(Count.values())\n",
    "    for i in Count:\n",
    "        if Count[i] == m:\n",
    "            FrequentPatterns.append(Text[i:i+k])\n",
    "    FP_no_dupes = list(set(FrequentPatterns))\n",
    "    return FP_no_dupes"
   ]
  },
  {
   "cell_type": "code",
   "execution_count": 24,
   "metadata": {
    "collapsed": false
   },
   "outputs": [
    {
     "name": "stdout",
     "output_type": "stream",
     "text": [
      "8\n",
      "['TCTTGATCAT', 'CTCTTGATCA']\n"
     ]
    }
   ],
   "source": [
    "Text = \"\"\"ATCAATGATCAACGTAAGCTTCTAAGCATGATCAAGGTGCTCACACAGTTTATCCACAACCTGAGTGGATGA\n",
    "CATCAAGATAGGTCGTTGTATCTCCTTCCTCTCGTACTCTCATGACCACGGAAAGATGATCAAGAGAGGATGATTTCTTGGCCATATCGCAA\n",
    "TGAATACTTGTGACTTGTGCTTCCAATTGACATCTTCAGCGCCATATTGCGCTGGCCAAGGTGACGGAGCGGGATTACGAAA\n",
    "GCATGATCATGGCTGTTGTTCTGTTTATCTTGTTTTGACTGAGACTTGTTAGGATAGACGGTTTTTCATCACTGACTAGCCA\n",
    "AAGCCTTACTCTGCCTGACATCGACCGTAAATTGATAATGAATTTACATGCTTCCGCGACGATTTACCTCTTGATCATCGAT\n",
    "CCGATTGAAGATCTTCAATTGTTAATTCTCTTGCCTCGACTCATAGCCATGATGAGCTCTTGATCATGTTTCCTTAACCCTC\n",
    "TATTTTTTACGGAAGAATGATCAAGCTGCTGCTCTTGATCATCGTTTC\"\"\"\n",
    "Pattern = 'TGATCA'\n",
    "k = 10\n",
    "\n",
    "print(PatternCount(Pattern, Text))\n",
    "\n",
    "print(FrequentWords(Text, k))"
   ]
  },
  {
   "cell_type": "markdown",
   "metadata": {},
   "source": [
    "### 1.4 Some Hidden Messages are More Surprising than Others"
   ]
  },
  {
   "cell_type": "code",
   "execution_count": 25,
   "metadata": {
    "collapsed": false
   },
   "outputs": [
    {
     "name": "stdout",
     "output_type": "stream",
     "text": [
      "ACCGGGTTTT\n"
     ]
    }
   ],
   "source": [
    "DNA = 'AAAACCCGGT'\n",
    "# Input:  A DNA string Pattern\n",
    "# Output: The reverse complement of Pattern\n",
    "def ReverseComplement(Pattern):\n",
    "    rev = Pattern[::-1]\n",
    "    revComp = complement(rev)\n",
    "    return revComp\n",
    "\n",
    "# HINT:   Filling in the following function is optional, but it may come in handy when solving ReverseComplement\n",
    "# Input:  A character Nucleotide\n",
    "# Output: The complement of Nucleotide\n",
    "def complement(Nucleotide):\n",
    "    comp = '' # output variable\n",
    "    for i in Nucleotide:\n",
    "        if i == 'A':\n",
    "            comp += 'T'\n",
    "        elif i == 'C':\n",
    "            comp += 'G'\n",
    "        elif i == 'G':\n",
    "            comp += 'C'\n",
    "        elif i == 'T':\n",
    "            comp += 'A'\n",
    "    return comp\n",
    "\n",
    "\n",
    "\n",
    "### DO NOT MODIFY THE CODE BELOW THIS LINE ###\n",
    "import sys\n",
    "print(ReverseComplement(DNA))"
   ]
  },
  {
   "cell_type": "code",
   "execution_count": 29,
   "metadata": {
    "collapsed": false
   },
   "outputs": [
    {
     "data": {
      "text/plain": [
       "5"
      ]
     },
     "execution_count": 29,
     "metadata": {},
     "output_type": "execute_result"
    }
   ],
   "source": [
    "PatternCount(\"CGCG\", \"CGCGATACGTTACATACATGATAGACCGCGCGCGATCATATCGCGATTATC\")"
   ]
  },
  {
   "cell_type": "code",
   "execution_count": 32,
   "metadata": {
    "collapsed": false
   },
   "outputs": [
    {
     "data": {
      "text/plain": [
       "['CCT']"
      ]
     },
     "execution_count": 32,
     "metadata": {},
     "output_type": "execute_result"
    }
   ],
   "source": [
    "FrequentWords('CGCCTAAATAGCCTCGCGGAGCCTTATGTCATACTCGTCCT', 3)"
   ]
  },
  {
   "cell_type": "code",
   "execution_count": 33,
   "metadata": {
    "collapsed": false
   },
   "outputs": [
    {
     "name": "stdout",
     "output_type": "stream",
     "text": [
      "AGCTAGC\n"
     ]
    }
   ],
   "source": [
    "print(ReverseComplement('GCTAGCT'))"
   ]
  },
  {
   "cell_type": "code",
   "execution_count": null,
   "metadata": {
    "collapsed": true
   },
   "outputs": [],
   "source": []
  }
 ],
 "metadata": {
  "kernelspec": {
   "display_name": "Python 2",
   "language": "python",
   "name": "python2"
  },
  "language_info": {
   "codemirror_mode": {
    "name": "ipython",
    "version": 2
   },
   "file_extension": ".py",
   "mimetype": "text/x-python",
   "name": "python",
   "nbconvert_exporter": "python",
   "pygments_lexer": "ipython2",
   "version": "2.7.11"
  }
 },
 "nbformat": 4,
 "nbformat_minor": 0
}
